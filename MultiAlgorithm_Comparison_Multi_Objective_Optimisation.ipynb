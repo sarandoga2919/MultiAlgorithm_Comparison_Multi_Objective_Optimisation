{
  "nbformat": 4,
  "nbformat_minor": 0,
  "metadata": {
    "celltoolbar": "Slideshow",
    "colab": {
      "name": "MultiAlgorithm_Comparison_Multi_Objective_Optimisation.ipynb",
      "provenance": [],
      "collapsed_sections": []
    },
    "kernelspec": {
      "display_name": "Python 3",
      "language": "python",
      "name": "python3"
    },
    "language_info": {
      "codemirror_mode": {
        "name": "ipython",
        "version": 3
      },
      "file_extension": ".py",
      "mimetype": "text/x-python",
      "name": "python",
      "nbconvert_exporter": "python",
      "pygments_lexer": "ipython3",
      "version": "3.7.3"
    }
  },
  "cells": [
    {
      "cell_type": "markdown",
      "metadata": {
        "id": "dZdk9kMxxrWH"
      },
      "source": [
        "## Evolutionary Multi-objective Optimisation (EMO) algorithms:\n",
        "\n",
        "|NSGA-II|SPEA2|GDE3|IBEA|\n",
        "| ---| --- | --- | --- |\n",
        "|Non-Dominated Sorting Genetic Algorithm (2nd version)|Strength Pareto Evolutionary Algorithm 2|The third version of Generalized Differential Evolution algorithm| Indicator-based evolutionary algorithm|\n",
        "|A fast non-dominated sorting approach to achieve solutions as close as possible to pareto-optimal solutions|It is based on the concept of Pareto domination for fitness allocation and selection operations|Randomly select the initial parameter values uniformly on the intervals| Incorporate an arbitrary performance indicator in its fitness function, using binary permirmance indicator to compare the diffence between two solutions|\n",
        "|A fast crowded distance estimation procedure|Density based on the k-th nearest neighbor|Stochastic, population-based optimisation algorithm|Based on a binary predifined indicator to compare the difference between two solutions|\n",
        "|A simple crowded comparison operator|Its genetic evolution operation has strong randomness|Designed for any number of objectives and constraints without introducing any extra control parameters|IBEA with the hypervolume measures have theoritical support and search ability|\n",
        "|The best solutions in the current population are preserved and used in the next generation|Improve SPEA making sure extreme points are preserved| Has two control parameters: mutation amplification factor and crossover rate|Uses both recombination and mutation operators to generate offspring|\n",
        "|It is a fast algorithm which does not demand high computational cost|Computationally expensive ﬁtness and density calculation|uses a growing population and nondominated sorting with pruning of non-dominated solutions to decrease the population size at the end of each generation|Hypervolume calculation needs long computation time|\n",
        "\n",
        "\n"
      ]
    },
    {
      "cell_type": "markdown",
      "metadata": {
        "id": "imc4Fr28xrWI"
      },
      "source": [
        "## Stochastic Optimisation\n",
        "\n",
        ".\n",
        "<img src=\"https://drbo.bg/wp-content/uploads/2018/05/cube-1979772_1280-768x403.jpg\" width=\"300\" height=\"240\" align=\"center\"/>\n",
        "\n",
        "* Collection of methods for minimising (maximising) an objective function when randomness is present, ussually enters the problem in two ways:\n",
        "    - Cost function \n",
        "    - Constrains set \n",
        "\n",
        "* Structural assumptions, such as limits on the size of the decision and outcome spaces, or convexity, are needed to make problems tractable.\n"
      ]
    },
    {
      "cell_type": "markdown",
      "metadata": {
        "id": "Qrl4CFbJxrWJ"
      },
      "source": [
        "## Testable Hypothesis:\n",
        "\n",
        "* According to Carvalho and Sichman (2018), IBEA will outperform NSGA-II, SPEA2 and GDE3\n",
        "* Based on the characteristics of this problem, we could say that the ZDT test suite is the most suitable one for the Welded beam Design problem as this has two objectives problem. \n",
        "* Two major problems must be addressed when an evolutionary algorithm is applied to multi-objective optimisation: \n",
        "    - How to accomplish fitness assignment and selection, in order to guide the search towards the Pareto -optimal set.\n",
        "    - How to maintain a diverse population in order to prevent premature convergence and archive a well distribute trade-off front. \n"
      ]
    },
    {
      "cell_type": "markdown",
      "metadata": {
        "id": "tILcgpKoxrWJ"
      },
      "source": [
        "## Synthetic Experiment Design & Execution"
      ]
    },
    {
      "cell_type": "markdown",
      "metadata": {
        "id": "PzK6iTMQxrWJ"
      },
      "source": [
        "### Performance metric for comparison: Hypervolume Indicator\n",
        "\n",
        "- Popular method to compare Pareto sets by measuring the volume of the dominated portion of objective space. \n",
        "- Suitable performance metric for our experiment because:\n",
        "  - Balanced measurement by assessing proximity, diversity and pertinence. \n",
        "  - Assessing the results is a straightforward procedure, higher hypervolume values are more desirable. \n",
        "- The recommended reference point for our chosen synthetic test problems is (11,11). \n"
      ]
    },
    {
      "cell_type": "markdown",
      "metadata": {
        "id": "9IObQI5vxrWJ"
      },
      "source": [
        "### Statistical Comparison Design\n",
        "\n",
        "- **Sample Size sufficiency test**: investigate the relationship between sample size and the Stand Error of the Mean (SEM) to determine an appropriate sample size for the test suite problems.\n",
        "  - **Our chosen SEM level**: 0.005\n",
        "- Mean Hypervolume scores to determine the best performing algorithm\n",
        "- **Significance Test**: Wilcoxon signed-rank test to determine if the results are significant or likely from the same distribution\n"
      ]
    },
    {
      "cell_type": "code",
      "metadata": {
        "id": "dXnMb7BIxrWK"
      },
      "source": [
        "import numpy as np                   # for multi-dimensional containers\n",
        "import pandas as pd                  # for DataFrames\n",
        "import plotly.graph_objects as go    # for data visualisation\n",
        "import plotly.io as pio              # to set shahin plot layout\n",
        "import platypus as plat              # multi-objective optimisation framework\n",
        "from scipy import stats"
      ],
      "execution_count": null,
      "outputs": []
    },
    {
      "cell_type": "code",
      "metadata": {
        "id": "xhzpdLw9xrWK"
      },
      "source": [
        "#codes used to determine sufficient sample size\n",
        "problem = [plat.ZDT1]\n",
        "algorithms = [plat.NSGAII]\n",
        "\n",
        "results_1 = plat.experiment(algorithms, problem, nfe=10000, seeds=150)\n",
        "\n",
        "hyp = plat.Hypervolume(minimum=[0, 0], maximum=[11, 11])\n",
        "\n",
        "hyp_result_1 = plat.calculate(results_1, hyp)\n",
        "\n",
        "hyp_result_1 = hyp_result_1['NSGAII']['ZDT1']['Hypervolume']\n",
        "\n",
        "SEM = []\n",
        "\n",
        "for sample_size in range(3,len(hyp_result_1)):\n",
        "    SEM.append(stats.sem(hyp_result_1[0:sample_size]))\n",
        "    \n",
        "algorithms_2 = [plat.SPEA2]\n",
        "\n",
        "results_2 = plat.experiment(algorithms_2, problem, nfe=10000, seeds=150)\n",
        "\n",
        "hyp_result_2 = plat.calculate(results_2, hyp)\n",
        "\n",
        "hyp_result_2 = hyp_result_2['SPEA2']['ZDT1']['Hypervolume']\n",
        "\n",
        "SEM_2 = []\n",
        "\n",
        "\n",
        "for sample_size in range(3,len(hyp_result_2)):\n",
        "    SEM_2.append(stats.sem(hyp_result_2[0:sample_size]))\n",
        "    \n",
        "algorithms_3 = [plat.GDE3]\n",
        "\n",
        "results_3 = plat.experiment(algorithms_3, problem, nfe=10000, seeds=150)\n",
        "\n",
        "hyp_result_3 = plat.calculate(results_3, hyp)\n",
        "\n",
        "hyp_result_3 = hyp_result_3['GDE3']['ZDT1']['Hypervolume']\n",
        "\n",
        "SEM_3 = []\n",
        "\n",
        "\n",
        "for sample_size in range(3,len(hyp_result_3)):\n",
        "    SEM_3.append(stats.sem(hyp_result_3[0:sample_size]))\n",
        "    \n",
        "algorithms_4 = [plat.IBEA]\n",
        "\n",
        "results_4 = plat.experiment(algorithms_4, problem, nfe=10000, seeds=150)\n",
        "\n",
        "hyp_result_4 = plat.calculate(results_4, hyp)\n",
        "\n",
        "hyp_result_4 = hyp_result_4['IBEA']['ZDT1']['Hypervolume']\n",
        "\n",
        "SEM_4 = []\n",
        "\n",
        "\n",
        "for sample_size in range(3,len(hyp_result_4)):\n",
        "    SEM_4.append(stats.sem(hyp_result_4[0:sample_size]))\n",
        "    \n",
        "level=0.005 #level to decide the sample size\n",
        "xlevel = np.linspace(0,100) #for plotting the level line\n",
        "ylevel = 0*xlevel+level\n",
        "\n",
        "fig_1 = go.Figure(layout=dict(xaxis=dict(title='Sample Size - NSGA - SPEA2 - GDE3 - IBEA ZDT1'), yaxis=dict(title='Standard Error of the Mean')))\n",
        "fig_1.add_scatter(x=list(range(3,len(hyp_result_1))), y=SEM,name='NSGAII')\n",
        "fig_1.add_scatter(x=list(range(3,len(hyp_result_2))), y=SEM_2,name='SPEA2')\n",
        "fig_1.add_scatter(x=list(range(3,len(hyp_result_3))), y=SEM_3,name='GDE3')\n",
        "fig_1.add_scatter(x=list(range(3,len(hyp_result_4))), y=SEM_4,name='IBEA')\n",
        "fig_1.add_scatter(x=xlevel, y=ylevel, name='level line')\n",
        "fig_1.show()"
      ],
      "execution_count": null,
      "outputs": []
    },
    {
      "cell_type": "markdown",
      "metadata": {
        "id": "MGQx8U0yxrWL"
      },
      "source": [
        "### Algorithm Configurations\n",
        "\n",
        "- **Sample Size**: 50 for all, 120 for ZDT4 due to IBEA performance \n",
        "- **Number of function evaluations (nfe)**: 10,000 for all, 25000 for ZDT4 as per recommended literature (Chase N, et al. 2009) )\n",
        "- **Genetic operators**: Default parameters to be used for each algorithm"
      ]
    },
    {
      "cell_type": "code",
      "metadata": {
        "id": "edfSOlm_xrWM"
      },
      "source": [
        "from IPython.display import display, HTML\n",
        "\n",
        "def multi_table(table_list):\n",
        "    '''\n",
        "    '''\n",
        "    return HTML(\n",
        "    '<table><tr style=\"background-color:white;\">' +\n",
        "    ''.join(['<td>' + table._repr_html_() + '</td>' for table in table_list]) +\n",
        "    '</tr></table>'\n",
        "    )"
      ],
      "execution_count": null,
      "outputs": []
    },
    {
      "cell_type": "code",
      "metadata": {
        "id": "pkf2gBT3xrWM"
      },
      "source": [
        "#Results Generation example code:\n",
        "\n",
        "problem = [plat.ZDT1,plat.ZDT2,plat.ZDT3,plat.ZDT6]\n",
        "algorithms = [plat.NSGAII, plat.SPEA2, plat.GDE3, plat.IBEA]"
      ],
      "execution_count": null,
      "outputs": []
    },
    {
      "cell_type": "code",
      "metadata": {
        "id": "C58yq4ZTxrWM"
      },
      "source": [
        "results = plat.experiment(algorithms, problem, nfe=10000, seeds=50)"
      ],
      "execution_count": null,
      "outputs": []
    },
    {
      "cell_type": "code",
      "metadata": {
        "id": "sXceqgzTxrWN"
      },
      "source": [
        "hyp = plat.Hypervolume(minimum=[0, 0], maximum=[11, 11])"
      ],
      "execution_count": null,
      "outputs": []
    },
    {
      "cell_type": "code",
      "metadata": {
        "id": "AkAYG3mixrWN"
      },
      "source": [
        "hyp_result = plat.calculate(results, hyp)"
      ],
      "execution_count": null,
      "outputs": []
    },
    {
      "cell_type": "code",
      "metadata": {
        "id": "XfC9Ace8xrWN"
      },
      "source": [
        "df_hyp_results = pd.DataFrame(index = hyp_result.keys())\n",
        "\n",
        "for key_algorithm, algorithm in hyp_result.items():\n",
        "    for key_problem, problem in algorithm.items():\n",
        "        for hypervolumes in problem['Hypervolume']:\n",
        "            df_hyp_results.loc[key_algorithm,key_problem] = np.mean(hypervolumes)\n",
        "            "
      ],
      "execution_count": null,
      "outputs": []
    },
    {
      "cell_type": "code",
      "metadata": {
        "id": "Xnpm0m7GxrWO"
      },
      "source": [
        "#Seperate problem parameters\n",
        "\n",
        "problem_2 = plat.ZDT4"
      ],
      "execution_count": null,
      "outputs": []
    },
    {
      "cell_type": "code",
      "metadata": {
        "id": "XZ3Txe_NxrWO"
      },
      "source": [
        "results_2 = plat.experiment(algorithms, problem_2, nfe=25000, seeds=120)"
      ],
      "execution_count": null,
      "outputs": []
    },
    {
      "cell_type": "code",
      "metadata": {
        "id": "bilVkD-2xrWO"
      },
      "source": [
        "hyp_result_2 = plat.calculate(results_2, hyp)"
      ],
      "execution_count": null,
      "outputs": []
    },
    {
      "cell_type": "code",
      "metadata": {
        "id": "sZnkymfyxrWO"
      },
      "source": [
        "df_hyp_results_2 = pd.DataFrame(index = hyp_result_2.keys())\n",
        "\n",
        "for key_algorithm, algorithm in hyp_result_2.items():\n",
        "    for key_problem, problem in algorithm.items():\n",
        "        for hypervolumes in problem['Hypervolume']:\n",
        "            df_hyp_results_2.loc[key_algorithm,key_problem] = np.mean(hypervolumes)\n",
        "            "
      ],
      "execution_count": null,
      "outputs": []
    },
    {
      "cell_type": "markdown",
      "metadata": {
        "id": "a1T9U04-xrWP"
      },
      "source": [
        "### Results Generation"
      ]
    },
    {
      "cell_type": "code",
      "metadata": {
        "id": "qMtFTBl9xrWP",
        "outputId": "dc6465fe-f71b-4c32-fef0-2db6cd95547f"
      },
      "source": [
        "multi_table([df_hyp_results.transpose(), df_hyp_results_2.transpose()])"
      ],
      "execution_count": null,
      "outputs": [
        {
          "output_type": "execute_result",
          "data": {
            "text/html": [
              "<table><tr style=\"background-color:white;\"><td><div>\n",
              "<style scoped>\n",
              "    .dataframe tbody tr th:only-of-type {\n",
              "        vertical-align: middle;\n",
              "    }\n",
              "\n",
              "    .dataframe tbody tr th {\n",
              "        vertical-align: top;\n",
              "    }\n",
              "\n",
              "    .dataframe thead th {\n",
              "        text-align: right;\n",
              "    }\n",
              "</style>\n",
              "<table border=\"1\" class=\"dataframe\">\n",
              "  <thead>\n",
              "    <tr style=\"text-align: right;\">\n",
              "      <th></th>\n",
              "      <th>NSGAII</th>\n",
              "      <th>SPEA2</th>\n",
              "      <th>GDE3</th>\n",
              "      <th>IBEA</th>\n",
              "    </tr>\n",
              "  </thead>\n",
              "  <tbody>\n",
              "    <tr>\n",
              "      <th>ZDT1</th>\n",
              "      <td>0.995913</td>\n",
              "      <td>0.989889</td>\n",
              "      <td>0.996995</td>\n",
              "      <td>0.996255</td>\n",
              "    </tr>\n",
              "    <tr>\n",
              "      <th>ZDT2</th>\n",
              "      <td>0.942168</td>\n",
              "      <td>0.906901</td>\n",
              "      <td>0.993579</td>\n",
              "      <td>0.929022</td>\n",
              "    </tr>\n",
              "    <tr>\n",
              "      <th>ZDT3</th>\n",
              "      <td>0.998286</td>\n",
              "      <td>0.998232</td>\n",
              "      <td>0.998234</td>\n",
              "      <td>0.998242</td>\n",
              "    </tr>\n",
              "    <tr>\n",
              "      <th>ZDT6</th>\n",
              "      <td>0.864907</td>\n",
              "      <td>0.794620</td>\n",
              "      <td>0.969240</td>\n",
              "      <td>0.892417</td>\n",
              "    </tr>\n",
              "  </tbody>\n",
              "</table>\n",
              "</div></td><td><div>\n",
              "<style scoped>\n",
              "    .dataframe tbody tr th:only-of-type {\n",
              "        vertical-align: middle;\n",
              "    }\n",
              "\n",
              "    .dataframe tbody tr th {\n",
              "        vertical-align: top;\n",
              "    }\n",
              "\n",
              "    .dataframe thead th {\n",
              "        text-align: right;\n",
              "    }\n",
              "</style>\n",
              "<table border=\"1\" class=\"dataframe\">\n",
              "  <thead>\n",
              "    <tr style=\"text-align: right;\">\n",
              "      <th></th>\n",
              "      <th>NSGAII</th>\n",
              "      <th>SPEA2</th>\n",
              "      <th>GDE3</th>\n",
              "      <th>IBEA</th>\n",
              "    </tr>\n",
              "  </thead>\n",
              "  <tbody>\n",
              "    <tr>\n",
              "      <th>ZDT4</th>\n",
              "      <td>0.957518</td>\n",
              "      <td>0.99661</td>\n",
              "      <td>0.997207</td>\n",
              "      <td>0.839292</td>\n",
              "    </tr>\n",
              "  </tbody>\n",
              "</table>\n",
              "</div></td></tr></table>"
            ],
            "text/plain": [
              "<IPython.core.display.HTML object>"
            ]
          },
          "metadata": {
            "tags": []
          },
          "execution_count": 116
        }
      ]
    },
    {
      "cell_type": "markdown",
      "metadata": {
        "id": "jLFFnHDrxrWR"
      },
      "source": [
        "#### How do these results compare to our hypothesis? \n",
        "\n",
        "- **Hypothesis**: Based on literature Carvalho and Sichman (2018), whom conducted similiar benchmark tests on different synthetic test problems, but with same algorithms as we have chosen, we predict that IBEA will be the strongest performing genetic algorithm. In addition we believe GDE3 will perform strongly, as it is a more modern algorithm with similiar high performance seen in literature. \n",
        "\n"
      ]
    },
    {
      "cell_type": "markdown",
      "metadata": {
        "id": "gakkHRsBxrWS"
      },
      "source": [
        "### Statistical Comparison: _Statistical Significance Test_"
      ]
    },
    {
      "cell_type": "code",
      "metadata": {
        "id": "Vzt7qqjKxrWS"
      },
      "source": [
        "algorithms = ['NSGAII','SPEA2', 'GDE3','IBEA']\n",
        "problems = ['ZDT1','ZDT2','ZDT3','ZDT6']\n",
        "\n",
        "df_hyp_wilcoxon = pd.DataFrame(index = [algorithms[1]])\n",
        "\n",
        "for key_problem in problems:\n",
        "    s, p = stats.wilcoxon(hyp_result[algorithms[0]][key_problem]['Hypervolume'],\n",
        "                          hyp_result[algorithms[1]][key_problem]['Hypervolume'])\n",
        "    df_hyp_wilcoxon.loc[algorithms[1],key_problem] = p"
      ],
      "execution_count": null,
      "outputs": []
    },
    {
      "cell_type": "code",
      "metadata": {
        "id": "3o6dhA_BxrWS"
      },
      "source": [
        "problems = ['ZDT1','ZDT2','ZDT3','ZDT6']\n",
        "\n",
        "df_hyp_wilcoxon_2 = pd.DataFrame(index = [algorithms[2]])\n",
        "\n",
        "\n",
        "for key_problem in problems:\n",
        "    s, p = stats.wilcoxon(hyp_result[algorithms[0]][key_problem]['Hypervolume'],\n",
        "                          hyp_result[algorithms[2]][key_problem]['Hypervolume'])\n",
        "    df_hyp_wilcoxon_2.loc[algorithms[2],key_problem] = p\n",
        "            "
      ],
      "execution_count": null,
      "outputs": []
    },
    {
      "cell_type": "code",
      "metadata": {
        "id": "pIv1g8cZxrWS"
      },
      "source": [
        "problems = ['ZDT1','ZDT2','ZDT3','ZDT6']\n",
        "\n",
        "df_hyp_wilcoxon_3 = pd.DataFrame(index = [algorithms[3]])\n",
        "\n",
        "\n",
        "for key_problem in problems:\n",
        "    s, p = stats.wilcoxon(hyp_result[algorithms[0]][key_problem]['Hypervolume'],\n",
        "                          hyp_result[algorithms[3]][key_problem]['Hypervolume'])\n",
        "    df_hyp_wilcoxon_3.loc[algorithms[3],key_problem] = p\n",
        "            "
      ],
      "execution_count": null,
      "outputs": []
    },
    {
      "cell_type": "code",
      "metadata": {
        "id": "Q_D_0Ri6xrWS"
      },
      "source": [
        "problems_2 = ['ZDT4']\n",
        "\n",
        "df_hyp_wilcoxon_4 = pd.DataFrame(index = [algorithms[1]])\n",
        "\n",
        "\n",
        "for key_problem in problems_2:\n",
        "    s, p = stats.wilcoxon(hyp_result_2[algorithms[0]][key_problem]['Hypervolume'],\n",
        "                          hyp_result_2[algorithms[1]][key_problem]['Hypervolume'])\n",
        "    df_hyp_wilcoxon_4.loc[algorithms[1],key_problem] = p\n",
        "            "
      ],
      "execution_count": null,
      "outputs": []
    },
    {
      "cell_type": "code",
      "metadata": {
        "id": "MOuX73QMxrWS"
      },
      "source": [
        "problems_2 = ['ZDT4']\n",
        "\n",
        "df_hyp_wilcoxon_5 = pd.DataFrame(index = [algorithms[2]])\n",
        "\n",
        "\n",
        "for key_problem in problems_2:\n",
        "    s, p = stats.wilcoxon(hyp_result_2[algorithms[0]][key_problem]['Hypervolume'],\n",
        "                          hyp_result_2[algorithms[2]][key_problem]['Hypervolume'])\n",
        "    df_hyp_wilcoxon_5.loc[algorithms[2],key_problem] = p"
      ],
      "execution_count": null,
      "outputs": []
    },
    {
      "cell_type": "code",
      "metadata": {
        "id": "BI1d-gmfxrWS"
      },
      "source": [
        "problems_2 = ['ZDT4']\n",
        "\n",
        "df_hyp_wilcoxon_6 = pd.DataFrame(index = [algorithms[3]])\n",
        "\n",
        "\n",
        "for key_problem in problems_2:\n",
        "    s, p = stats.wilcoxon(hyp_result_2[algorithms[0]][key_problem]['Hypervolume'],\n",
        "                          hyp_result_2[algorithms[3]][key_problem]['Hypervolume'])\n",
        "    df_hyp_wilcoxon_6.loc[algorithms[3],key_problem] = p"
      ],
      "execution_count": null,
      "outputs": []
    },
    {
      "cell_type": "code",
      "metadata": {
        "id": "_rWR_dsjxrWT",
        "outputId": "45520832-9eb8-4fa0-8473-e24465420301"
      },
      "source": [
        "multi_table([df_hyp_wilcoxon.transpose(),df_hyp_wilcoxon_2.transpose(),df_hyp_wilcoxon_3.transpose()])"
      ],
      "execution_count": null,
      "outputs": [
        {
          "output_type": "execute_result",
          "data": {
            "text/html": [
              "<table><tr style=\"background-color:white;\"><td><div>\n",
              "<style scoped>\n",
              "    .dataframe tbody tr th:only-of-type {\n",
              "        vertical-align: middle;\n",
              "    }\n",
              "\n",
              "    .dataframe tbody tr th {\n",
              "        vertical-align: top;\n",
              "    }\n",
              "\n",
              "    .dataframe thead th {\n",
              "        text-align: right;\n",
              "    }\n",
              "</style>\n",
              "<table border=\"1\" class=\"dataframe\">\n",
              "  <thead>\n",
              "    <tr style=\"text-align: right;\">\n",
              "      <th></th>\n",
              "      <th>SPEA2</th>\n",
              "    </tr>\n",
              "  </thead>\n",
              "  <tbody>\n",
              "    <tr>\n",
              "      <th>ZDT1</th>\n",
              "      <td>2.648904e-06</td>\n",
              "    </tr>\n",
              "    <tr>\n",
              "      <th>ZDT2</th>\n",
              "      <td>7.173536e-01</td>\n",
              "    </tr>\n",
              "    <tr>\n",
              "      <th>ZDT3</th>\n",
              "      <td>3.569938e-09</td>\n",
              "    </tr>\n",
              "    <tr>\n",
              "      <th>ZDT6</th>\n",
              "      <td>7.556929e-10</td>\n",
              "    </tr>\n",
              "  </tbody>\n",
              "</table>\n",
              "</div></td><td><div>\n",
              "<style scoped>\n",
              "    .dataframe tbody tr th:only-of-type {\n",
              "        vertical-align: middle;\n",
              "    }\n",
              "\n",
              "    .dataframe tbody tr th {\n",
              "        vertical-align: top;\n",
              "    }\n",
              "\n",
              "    .dataframe thead th {\n",
              "        text-align: right;\n",
              "    }\n",
              "</style>\n",
              "<table border=\"1\" class=\"dataframe\">\n",
              "  <thead>\n",
              "    <tr style=\"text-align: right;\">\n",
              "      <th></th>\n",
              "      <th>GDE3</th>\n",
              "    </tr>\n",
              "  </thead>\n",
              "  <tbody>\n",
              "    <tr>\n",
              "      <th>ZDT1</th>\n",
              "      <td>8.031091e-10</td>\n",
              "    </tr>\n",
              "    <tr>\n",
              "      <th>ZDT2</th>\n",
              "      <td>7.556929e-10</td>\n",
              "    </tr>\n",
              "    <tr>\n",
              "      <th>ZDT3</th>\n",
              "      <td>1.979106e-09</td>\n",
              "    </tr>\n",
              "    <tr>\n",
              "      <th>ZDT6</th>\n",
              "      <td>7.556929e-10</td>\n",
              "    </tr>\n",
              "  </tbody>\n",
              "</table>\n",
              "</div></td><td><div>\n",
              "<style scoped>\n",
              "    .dataframe tbody tr th:only-of-type {\n",
              "        vertical-align: middle;\n",
              "    }\n",
              "\n",
              "    .dataframe tbody tr th {\n",
              "        vertical-align: top;\n",
              "    }\n",
              "\n",
              "    .dataframe thead th {\n",
              "        text-align: right;\n",
              "    }\n",
              "</style>\n",
              "<table border=\"1\" class=\"dataframe\">\n",
              "  <thead>\n",
              "    <tr style=\"text-align: right;\">\n",
              "      <th></th>\n",
              "      <th>IBEA</th>\n",
              "    </tr>\n",
              "  </thead>\n",
              "  <tbody>\n",
              "    <tr>\n",
              "      <th>ZDT1</th>\n",
              "      <td>1.569864e-03</td>\n",
              "    </tr>\n",
              "    <tr>\n",
              "      <th>ZDT2</th>\n",
              "      <td>1.436120e-01</td>\n",
              "    </tr>\n",
              "    <tr>\n",
              "      <th>ZDT3</th>\n",
              "      <td>7.556929e-10</td>\n",
              "    </tr>\n",
              "    <tr>\n",
              "      <th>ZDT6</th>\n",
              "      <td>9.068058e-10</td>\n",
              "    </tr>\n",
              "  </tbody>\n",
              "</table>\n",
              "</div></td></tr></table>"
            ],
            "text/plain": [
              "<IPython.core.display.HTML object>"
            ]
          },
          "metadata": {
            "tags": []
          },
          "execution_count": 121
        }
      ]
    },
    {
      "cell_type": "code",
      "metadata": {
        "id": "C3V70MFHxrWT",
        "outputId": "953b4566-b8bb-478f-d872-f34bfb287d8b"
      },
      "source": [
        "multi_table([df_hyp_wilcoxon_4.transpose(),df_hyp_wilcoxon_5.transpose(),df_hyp_wilcoxon_6.transpose()])"
      ],
      "execution_count": null,
      "outputs": [
        {
          "output_type": "execute_result",
          "data": {
            "text/html": [
              "<table><tr style=\"background-color:white;\"><td><div>\n",
              "<style scoped>\n",
              "    .dataframe tbody tr th:only-of-type {\n",
              "        vertical-align: middle;\n",
              "    }\n",
              "\n",
              "    .dataframe tbody tr th {\n",
              "        vertical-align: top;\n",
              "    }\n",
              "\n",
              "    .dataframe thead th {\n",
              "        text-align: right;\n",
              "    }\n",
              "</style>\n",
              "<table border=\"1\" class=\"dataframe\">\n",
              "  <thead>\n",
              "    <tr style=\"text-align: right;\">\n",
              "      <th></th>\n",
              "      <th>SPEA2</th>\n",
              "    </tr>\n",
              "  </thead>\n",
              "  <tbody>\n",
              "    <tr>\n",
              "      <th>ZDT4</th>\n",
              "      <td>5.915573e-09</td>\n",
              "    </tr>\n",
              "  </tbody>\n",
              "</table>\n",
              "</div></td><td><div>\n",
              "<style scoped>\n",
              "    .dataframe tbody tr th:only-of-type {\n",
              "        vertical-align: middle;\n",
              "    }\n",
              "\n",
              "    .dataframe tbody tr th {\n",
              "        vertical-align: top;\n",
              "    }\n",
              "\n",
              "    .dataframe thead th {\n",
              "        text-align: right;\n",
              "    }\n",
              "</style>\n",
              "<table border=\"1\" class=\"dataframe\">\n",
              "  <thead>\n",
              "    <tr style=\"text-align: right;\">\n",
              "      <th></th>\n",
              "      <th>GDE3</th>\n",
              "    </tr>\n",
              "  </thead>\n",
              "  <tbody>\n",
              "    <tr>\n",
              "      <th>ZDT4</th>\n",
              "      <td>1.971952e-21</td>\n",
              "    </tr>\n",
              "  </tbody>\n",
              "</table>\n",
              "</div></td><td><div>\n",
              "<style scoped>\n",
              "    .dataframe tbody tr th:only-of-type {\n",
              "        vertical-align: middle;\n",
              "    }\n",
              "\n",
              "    .dataframe tbody tr th {\n",
              "        vertical-align: top;\n",
              "    }\n",
              "\n",
              "    .dataframe thead th {\n",
              "        text-align: right;\n",
              "    }\n",
              "</style>\n",
              "<table border=\"1\" class=\"dataframe\">\n",
              "  <thead>\n",
              "    <tr style=\"text-align: right;\">\n",
              "      <th></th>\n",
              "      <th>IBEA</th>\n",
              "    </tr>\n",
              "  </thead>\n",
              "  <tbody>\n",
              "    <tr>\n",
              "      <th>ZDT4</th>\n",
              "      <td>3.324318e-20</td>\n",
              "    </tr>\n",
              "  </tbody>\n",
              "</table>\n",
              "</div></td></tr></table>"
            ],
            "text/plain": [
              "<IPython.core.display.HTML object>"
            ]
          },
          "metadata": {
            "tags": []
          },
          "execution_count": 119
        }
      ]
    },
    {
      "cell_type": "markdown",
      "metadata": {
        "id": "JPNP_Yt5xrWT"
      },
      "source": [
        "#### Conclusions & further discussion:\n",
        "\n",
        "- GDE3 performed best in 5 out of 6 test suite problems, therefore the best performing algorithm in the synthentic test suite problems.\n",
        "- NSGA-II performed best in ZDT3, IBEA performed 2nd best in ZDT1, ZDT3 and ZDT6\n",
        "- SPEA2 performed the poorest\n",
        "- The results were statistically significant using NSGA-II as a baseline, apart from ZDT2 with SPEA2 and IBEA\n",
        "- We decided to use GDE3 for the real-world problem."
      ]
    },
    {
      "cell_type": "markdown",
      "metadata": {
        "id": "PP_I2irKUnGY"
      },
      "source": [
        "### Welded Beam Design Problem\n",
        "\n",
        "\n",
        "* Problem's description\n",
        "* Solving the problem with GDE3\n",
        "* Picking best solutions\n",
        "* Conclusion\n",
        "\n",
        "\n",
        "\n",
        "\n"
      ]
    },
    {
      "cell_type": "markdown",
      "metadata": {
        "id": "YGQ7jG41Jctp"
      },
      "source": [
        "### Welded Beam Design:\n",
        "\n",
        "**The beam supports a load P at a distance L from the substrate. The beam is welded onto the substrate with upper and lower welds, each of length l and thickness h. The beam has a rectangular cross-section, width b, and height t. The material of the beam is steel.** \n",
        "\n",
        "\n",
        "![alt text](https://i.imgur.com/n75MRlP.png)\n",
        "\n",
        "###### Figure reference: Ray and Liew (2002). A Swarm Metaphor for Multiobjective Design Optimization. Available at: https://i.imgur.com/n75MRlP.png\n"
      ]
    },
    {
      "cell_type": "markdown",
      "metadata": {
        "id": "wIVcD2o9Jmxu"
      },
      "source": [
        "### The welded beam design problem has:\n",
        " - **Four real-parameter variables**:\n",
        "    - x(1)=h , the thickess of the welds\n",
        "    - x(2)=l , the length of the welds\n",
        "    - x(3)=t , the height of the beam\n",
        "    - x(4)=b , the widht of the beam \n",
        " - **Four non-linear constraints**:\n",
        "    - Shear stress\n",
        "    - Bending stress\n",
        "    - The buckling load\n",
        "    - Deflection\n",
        "     \n",
        " "
      ]
    },
    {
      "cell_type": "code",
      "metadata": {
        "id": "WLHG1R-UVd57"
      },
      "source": [
        "# Definiton of the Welded Beam problem\n",
        "\n",
        "from platypus import Problem, Real\n",
        "\n",
        "class WeldedBeam(Problem):\n",
        "\n",
        "    def __init__(self):\n",
        "        super(WeldedBeam, self).__init__(4, 2, 4)\n",
        "        self.types[:] = [Real(0.125, 5.0), Real(0.1, 10.0),Real(0.1, 10.0),Real(0.125, 5.0)]\n",
        "        self.constraints[:] = \"<=0\"\n",
        "    \n",
        "    def evaluate(self, solution):\n",
        "        x = solution.variables\n",
        "        f1 = 1.10471 * x[0] ** 2 * x[1] + 0.04811 * x[2] * x[3] * (14.0 + x[1])\n",
        "        f2 = 2.1952 / (x[3] * x[2] ** 3)\n",
        "\n",
        "        P = 6000\n",
        "        L = 14\n",
        "        t_max = 13600\n",
        "        s_max = 30000\n",
        "\n",
        "        R =np.sqrt(0.25 * (x[1] ** 2 + (x[0] + x[2]) ** 2))\n",
        "        M = P * (L + x[1] / 2)\n",
        "        J = 2 *np.sqrt(0.5) * x[0] * x[1] * (x[1] ** 2 / 12 + 0.25 * (x[0] + x[2]) ** 2)\n",
        "        t1 = P / (np.sqrt(2) * x[0] * x[1])\n",
        "        t2 = M * R / J\n",
        "        t =np.sqrt(t1 ** 2 + t2 ** 2 + t1 * t2 * x[1] / R)\n",
        "        s = 6 * P * L / (x[3] * x[2] ** 2)\n",
        "        P_c = 64746.022 * (1 - 0.0282346 * x[2]) * x[2] * x[3] ** 3\n",
        "\n",
        "        g1 = (1 / t_max) * (t - t_max)\n",
        "        g2 = (1 / s_max) * (s - s_max)\n",
        "        g3 = (1 / (5 - 0.125)) * (x[0] - x[3])\n",
        "        g4 = (1 / P) * (P - P_c)\n",
        "        solution.objectives[:] = [f1, f2]\n",
        "        solution.constraints[:] = [g1,g2,g3,g4]\n",
        "        \n",
        "# Reference: https://github.com/msu-coinlab/pymop/blob/master/pymop/problems/welded_beam.py"
      ],
      "execution_count": null,
      "outputs": []
    },
    {
      "cell_type": "code",
      "metadata": {
        "id": "gwJUQhagVnsX"
      },
      "source": [
        "# run the algorithm\n",
        "\n",
        "nef=10000 #the number of function evaluations\n",
        "problem=WeldedBeam() \n",
        "algorithm = plat.GDE3(WeldedBeam())\n",
        "algorithm.run(nef)"
      ],
      "execution_count": null,
      "outputs": []
    },
    {
      "cell_type": "code",
      "metadata": {
        "colab": {
          "base_uri": "https://localhost:8080/",
          "height": 419
        },
        "id": "jCfW667TZm3n",
        "outputId": "d0ab196c-fac0-4351-8595-c454ae5998d3"
      },
      "source": [
        "#getting the results\n",
        "\n",
        "objective_values = np.empty((0, 2))\n",
        "solutions = []\n",
        "\n",
        "for solution in algorithm.result:\n",
        "    solution.evaluate()\n",
        "    solutions.append(solution)\n",
        "    y = solution.objectives\n",
        "    objective_values = np.vstack([objective_values, y])\n",
        "    \n",
        "# convert to DataFrame\n",
        "objective_values = pd.DataFrame(objective_values, columns=['f1','f2'])\n",
        "\n",
        "#print the restults \n",
        "\n",
        "objective_values\n"
      ],
      "execution_count": null,
      "outputs": [
        {
          "output_type": "execute_result",
          "data": {
            "text/html": [
              "<div>\n",
              "<style scoped>\n",
              "    .dataframe tbody tr th:only-of-type {\n",
              "        vertical-align: middle;\n",
              "    }\n",
              "\n",
              "    .dataframe tbody tr th {\n",
              "        vertical-align: top;\n",
              "    }\n",
              "\n",
              "    .dataframe thead th {\n",
              "        text-align: right;\n",
              "    }\n",
              "</style>\n",
              "<table border=\"1\" class=\"dataframe\">\n",
              "  <thead>\n",
              "    <tr style=\"text-align: right;\">\n",
              "      <th></th>\n",
              "      <th>f1</th>\n",
              "      <th>f2</th>\n",
              "    </tr>\n",
              "  </thead>\n",
              "  <tbody>\n",
              "    <tr>\n",
              "      <td>0</td>\n",
              "      <td>24.712374</td>\n",
              "      <td>0.000672</td>\n",
              "    </tr>\n",
              "    <tr>\n",
              "      <td>1</td>\n",
              "      <td>13.611677</td>\n",
              "      <td>0.001255</td>\n",
              "    </tr>\n",
              "    <tr>\n",
              "      <td>2</td>\n",
              "      <td>12.594857</td>\n",
              "      <td>0.001361</td>\n",
              "    </tr>\n",
              "    <tr>\n",
              "      <td>3</td>\n",
              "      <td>12.405863</td>\n",
              "      <td>0.001390</td>\n",
              "    </tr>\n",
              "    <tr>\n",
              "      <td>4</td>\n",
              "      <td>24.784815</td>\n",
              "      <td>0.000666</td>\n",
              "    </tr>\n",
              "    <tr>\n",
              "      <td>...</td>\n",
              "      <td>...</td>\n",
              "      <td>...</td>\n",
              "    </tr>\n",
              "    <tr>\n",
              "      <td>95</td>\n",
              "      <td>3.880289</td>\n",
              "      <td>0.005260</td>\n",
              "    </tr>\n",
              "    <tr>\n",
              "      <td>96</td>\n",
              "      <td>3.465052</td>\n",
              "      <td>0.005906</td>\n",
              "    </tr>\n",
              "    <tr>\n",
              "      <td>97</td>\n",
              "      <td>4.290115</td>\n",
              "      <td>0.004723</td>\n",
              "    </tr>\n",
              "    <tr>\n",
              "      <td>98</td>\n",
              "      <td>36.596274</td>\n",
              "      <td>0.000439</td>\n",
              "    </tr>\n",
              "    <tr>\n",
              "      <td>99</td>\n",
              "      <td>3.446015</td>\n",
              "      <td>0.006019</td>\n",
              "    </tr>\n",
              "  </tbody>\n",
              "</table>\n",
              "<p>100 rows × 2 columns</p>\n",
              "</div>"
            ],
            "text/plain": [
              "           f1        f2\n",
              "0   24.712374  0.000672\n",
              "1   13.611677  0.001255\n",
              "2   12.594857  0.001361\n",
              "3   12.405863  0.001390\n",
              "4   24.784815  0.000666\n",
              "..        ...       ...\n",
              "95   3.880289  0.005260\n",
              "96   3.465052  0.005906\n",
              "97   4.290115  0.004723\n",
              "98  36.596274  0.000439\n",
              "99   3.446015  0.006019\n",
              "\n",
              "[100 rows x 2 columns]"
            ]
          },
          "metadata": {
            "tags": []
          },
          "execution_count": 4
        }
      ]
    },
    {
      "cell_type": "code",
      "metadata": {
        "id": "3Uv1EkBYxrWU"
      },
      "source": [
        "#Show the Figure \n",
        "\n",
        "fig = go.Figure(layout=dict(xaxis=dict(title='Cost '),yaxis=dict(title='Deflection')))\n",
        "fig.add_scatter(x=objective_values.f1, y=objective_values.f2, mode='markers',name='solutions')\n",
        "\n",
        "fig.show()"
      ],
      "execution_count": null,
      "outputs": []
    },
    {
      "cell_type": "markdown",
      "metadata": {
        "id": "jhXSE5QPfpwM"
      },
      "source": [
        "\n",
        "### Reference point: (40,0.009)"
      ]
    },
    {
      "cell_type": "code",
      "metadata": {
        "id": "tiX5QXpSOLr1"
      },
      "source": [
        "#Reference point\n",
        "RefPoint=[40,0.009]"
      ],
      "execution_count": null,
      "outputs": []
    },
    {
      "cell_type": "code",
      "metadata": {
        "id": "CSiKw590VuRS"
      },
      "source": [
        "hyp = plat.indicators.Hypervolume(minimum=[0, 0], maximum=RefPoint)"
      ],
      "execution_count": null,
      "outputs": []
    },
    {
      "cell_type": "code",
      "metadata": {
        "id": "588JJmPJWUwJ"
      },
      "source": [
        "#Show the Figure \n",
        "\n",
        "fig = go.Figure(layout=dict(xaxis=dict(title='Cost '),yaxis=dict(title='Deflection')))\n",
        "fig.add_scatter(x=objective_values.f1, y=objective_values.f2, mode='markers',name='solutions')\n",
        "fig.add_scatter(x=[0,RefPoint[0],RefPoint[0]], y=[RefPoint[1],RefPoint[1],0],name='Reference point',)\n",
        "\n",
        "fig.show()"
      ],
      "execution_count": null,
      "outputs": []
    },
    {
      "cell_type": "markdown",
      "metadata": {
        "id": "ZKi9HRE4eJ0O"
      },
      "source": [
        "### Calculation of the explicit hypervolume contribution of each solution in the population"
      ]
    },
    {
      "cell_type": "code",
      "metadata": {
        "id": "elUwyZRkaj9D"
      },
      "source": [
        "HV = hyp.calculate(solutions)\n",
        "CHV = np.empty((0, 1))\n",
        "\n",
        "for i in range(100):\n",
        "    solutions_subset = solutions[:i] + solutions[i+1:]\n",
        "    CHV = np.vstack([CHV, HV - hyp.calculate(solutions_subset)])\n",
        "    objective_values = pd.DataFrame(objective_values, columns=['f1','f2'])\n",
        "\n",
        "CHV = pd.DataFrame(CHV, columns=['CHV'])\n",
        "CHV=CHV.sort_values(by='CHV',ascending=False)"
      ],
      "execution_count": null,
      "outputs": []
    },
    {
      "cell_type": "markdown",
      "metadata": {
        "id": "oVMvGw8Zl2gG"
      },
      "source": [
        "### The best solutions"
      ]
    },
    {
      "cell_type": "markdown",
      "metadata": {
        "id": "z5MyiSCkgV-s"
      },
      "source": [
        "- **4 represents the number of picked solutions**:\n"
      ]
    },
    {
      "cell_type": "code",
      "metadata": {
        "id": "NZ_X4UZsAFWG"
      },
      "source": [
        "#number of picked solutions\n",
        "noS=4"
      ],
      "execution_count": null,
      "outputs": []
    },
    {
      "cell_type": "code",
      "metadata": {
        "id": "s7Achs01BNa2"
      },
      "source": [
        "# Using loop to print best solutions\n",
        "\n",
        "for i in range(0,noS):\n",
        "  solutionIndex= CHV.index[i]\n",
        "  print(objective_values.loc[[solutionIndex]])\n",
        "  \n",
        "  # Add a solution with large marker\n",
        "  fig.add_trace(\n",
        "    go.Scatter(\n",
        "        name=f'solution {solutionIndex}',\n",
        "        mode='markers',\n",
        "        x=[objective_values.iloc[solutionIndex].f1],\n",
        "        y=[objective_values.iloc[solutionIndex].f2],\n",
        "        marker=dict(\n",
        "            color='Red',\n",
        "            size=10,\n",
        "            line=dict(\n",
        "                color='Purple',\n",
        "                width=2\n",
        "            )\n",
        "        ),\n",
        "        \n",
        "    )\n",
        "  )\n",
        "fig.show()\n"
      ],
      "execution_count": null,
      "outputs": []
    },
    {
      "cell_type": "markdown",
      "metadata": {
        "id": "7PgcIZhNxrWW"
      },
      "source": [
        " f1        f2\n",
        "97  4.290115  0.004723\n",
        "          f1        f2\n",
        "99  3.446015  0.006019\n",
        "          f1        f2\n",
        "96  3.465052  0.005906\n",
        "          f1        f2\n",
        "94  3.901169  0.005165"
      ]
    },
    {
      "cell_type": "markdown",
      "metadata": {
        "id": "SwV_Bfsg_8Yx"
      },
      "source": [
        "### References:\n",
        "\n",
        "* Deb, Kalyanmoy, J. Sundar, Udaya Bhaskara Rao N, and Shamik Chaudhuri. Reference Point Based Multi-Objective Optimization Using Evolutionary Algorithms. International Journal of Computational Intelligence Research, Vol. 2, No. 3, 2006, pp. 273–286. Available at https://www.softcomputing.net/ijcir/vol2-issu3-paper4.pdf\n",
        "\n",
        "* Ray, T., and K. M. Liew. A Swarm Metaphor for Multiobjective Design Optimization. Engineering Optimization 34, 2002, pp.141–153.\n",
        "\n",
        "* Deb, Kalyanmoy, J. Sundar, Udaya Bhaskara Rao N, and Shamik Chaudhuri. Reference Point Based Multi-Objective Optimization Using Evolutionary Algorithms. International Journal of Computational Intelligence Research, Vol. 2, No. 3, 2006, pp. 273–286.\n",
        "\n",
        "* Ali R. Yildiz. Comparison of evolutionary-based optimization algorithms for structuraldesign optimization. Engineering Applications of Artificial Intelligence. 2012.\n",
        "\n",
        "* Hamidreza, Eskandari,G. Christopher, and Lamont Gary. FastPGA: A Dynamic Population Sizing Approach for Solving Expensive Multiobjective Optimization Problems. 2007.\n",
        "\n",
        "* Zhao Liang. Performance of multi-objectve algorithms on varying test problem features using the WFG toolkit. 2007\n",
        "\n",
        "* Y. Yusoff, M. S. Ngadiman, and A. M. Zain, “Overview of NSGA-II for optimizing machining process parameters,” in Procedia Engineering, 2011. K. Deb, A. Pratap, S. Agarwal, and T. Meyarivan, “A fast and elitist multiobjective genetic algorithm: NSGA-II,” IEEE Trans. Evol. Comput., 2002.\n",
        "\n",
        "* K. Deb, A. Pratap, S. Agarwal, and T. Meyarivan, “A fast and elitist multiobjective genetic algorithm: NSGA-II,” IEEE Trans. Evol. Comput., 2002.\n",
        "\n",
        "* Kukkonen, S. and Lampinen, J., 2005, September. GDE3: The third evolution step of generalized differential evolution. In 2005 IEEE congress on evolutionary computation (Vol. 1, pp. 443-450). IEEE.\n",
        "\n",
        "* E. Zitzler, K. Deb, and L. Thiele. Comparison of Multiobjective Evolutionary Algorithms: Empirical Results. Evolutionary Computation, 8(2):173-195, 2000 \n",
        "\n",
        "* Rostami, S., O’Reilly, D., Shenfield, A. and Bowring, N., 2015. A novel preference articulation operator for the evolutionary multi-objective optimisation of classifiers in concealed weapons detection. Information Sciences, 295, pp.494-520.\n",
        "\n",
        "* Chase, N., Rademacher, M., Goodman, E., Averill, R. and Sidhu, R., 2009. A benchmark study of multi-objective optimization methods. BMK-3021, Rev, 6, pp.1-24."
      ]
    }
  ]
}